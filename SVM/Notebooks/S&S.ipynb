{
 "cells": [
  {
   "cell_type": "code",
   "execution_count": 4,
   "metadata": {},
   "outputs": [
    {
     "data": {
      "image/png": "[encoded data removed]",
      "text/plain": [
       "<Figure size 432x288 with 1 Axes>"
      ]
     },
     "metadata": {
      "needs_background": "light"
     },
     "output_type": "display_data"
    }
   ],
   "source": [
    "import matplotlib.pyplot as plt \n",
    "from sklearn.datasets.samples_generator import make_blobs\n",
    "import numpy as np\n",
    "import pandas as pd\n",
    "cols=['iteration','C','Margin']\n",
    "lst=[]\n",
    "for i in range (1,2):\n",
    "    (X, y) = make_blobs(n_samples=[2000,2000], n_features=2, centers=[(-1,0),(1,0)],cluster_std=[0.2,0.2], random_state=i)\n",
    "    y = np.where(y == 1, 1, -1)\n",
    "\n",
    "    import matplotlib.pyplot as plt\n",
    "    fig,ax=plt.subplots()\n",
    "    xmin,xmax=-3,3\n",
    "    ax.set_xlim([xmin,xmax])\n",
    "    ax.set_ylim([xmin,xmax])\n",
    "\n",
    "    # Move left y-axis and bottim x-axis to centre, passing through (0,0)\n",
    "    ax.spines['left'].set_position('zero')\n",
    "    ax.spines['bottom'].set_position('zero')\n",
    "    # Eliminate upper and right axes\n",
    "    ax.spines['right'].set_color('none')\n",
    "    ax.spines['top'].set_color('none')\n",
    "\n",
    "    # Show ticks in the left and lower axes only\n",
    "    ax.xaxis.set_ticks_position('bottom')\n",
    "    ax.yaxis.set_ticks_position('left')\n",
    "\n",
    "    #make the box square shape\n",
    "    ax.set_aspect('equal')\n",
    "\n",
    "    ax.scatter(X[:, 0], X[:, 1], marker=\"o\", s=20,color=[\"r\" if y == -1 else \"b\" for y in y])\n",
    "    start, end = ax.get_xlim()\n",
    "    ax.xaxis.set_ticks(np.arange(start, end, 3.0))\n",
    "\n",
    "    plt.title(\"Cluster Centers=[(-1,0),(1,0)]\\nStd_dev=[0.20,0.20]\") \n"
   ]
  },
  {
   "cell_type": "code",
   "execution_count": null,
   "metadata": {},
   "outputs": [],
   "source": []
  }
 ],
 "metadata": {
  "kernelspec": {
   "display_name": "Python 3",
   "language": "python",
   "name": "python3"
  },
  "language_info": {
   "codemirror_mode": {
    "name": "ipython",
    "version": 3
   },
   "file_extension": ".py",
   "mimetype": "text/x-python",
   "name": "python",
   "nbconvert_exporter": "python",
   "pygments_lexer": "ipython3",
   "version": "3.7.3"
  }
 },
 "nbformat": 4,
 "nbformat_minor": 4
}
