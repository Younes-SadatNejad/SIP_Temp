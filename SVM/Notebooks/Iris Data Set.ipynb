{
 "cells": [
  {
   "cell_type": "code",
   "execution_count": 2,
   "metadata": {},
   "outputs": [],
   "source": [
    "import numpy as np\n",
    "import matplotlib.pyplot as plt\n",
    "from sklearn import svm, datasets\n",
    "from sklearn.datasets import load_iris"
   ]
  },
  {
   "cell_type": "code",
   "execution_count": 3,
   "metadata": {},
   "outputs": [],
   "source": [
    "iris = load_iris()\n",
    "X = iris.data\n",
    "y = iris.target"
   ]
  },
  {
   "cell_type": "code",
   "execution_count": 4,
   "metadata": {},
   "outputs": [],
   "source": [
    "iris = datasets.load_iris()\n",
    "# Take the first two features. We could avoid this by using a two-dim dataset\n",
    "X_2d = X[:, :2]\n",
    "\n",
    "#Consider 0 & 1 class\n",
    "X_2d = X_2d[y < 2]\n",
    "y_2d = y[y < 2]\n",
    "y_2d = np.where(y_2d == 1, 1, -1)\n"
   ]
  },
  {
   "cell_type": "code",
   "execution_count": 5,
   "metadata": {},
   "outputs": [],
   "source": [
    "from sklearn.preprocessing import StandardScaler\n",
    "scaler = StandardScaler()\n",
    "X = scaler.fit_transform(X)\n",
    "X_2d_1 = scaler.fit_transform(X_2d)"
   ]
  },
  {
   "cell_type": "code",
   "execution_count": 6,
   "metadata": {},
   "outputs": [
    {
     "data": {
      "text/plain": [
       "array([ 0.72829015, -0.69068434])"
      ]
     },
     "execution_count": 6,
     "metadata": {},
     "output_type": "execute_result"
    }
   ],
   "source": [
    "np.mean(X_2d_1[y_2d==1],axis=0)"
   ]
  },
  {
   "cell_type": "code",
   "execution_count": 7,
   "metadata": {},
   "outputs": [
    {
     "name": "stdout",
     "output_type": "stream",
     "text": [
      "[[-0.72829015  0.69068434]\n",
      " [ 0.72829015 -0.69068434]]\n"
     ]
    },
    {
     "name": "stderr",
     "output_type": "stream",
     "text": [
      "C:\\Users\\i49ahmed\\anaconda3\\lib\\site-packages\\sklearn\\utils\\deprecation.py:144: FutureWarning: The sklearn.neighbors.nearest_centroid module is  deprecated in version 0.22 and will be removed in version 0.24. The corresponding classes / functions should instead be imported from sklearn.neighbors. Anything that cannot be imported from sklearn.neighbors is now part of the private API.\n",
      "  warnings.warn(message, FutureWarning)\n"
     ]
    }
   ],
   "source": [
    "from sklearn.neighbors.nearest_centroid import NearestCentroid\n",
    "\n",
    "clf1 = NearestCentroid()\n",
    "clf1.fit(X_2d_1, y_2d)\n",
    "print(clf1.centroids_)"
   ]
  },
  {
   "cell_type": "code",
   "execution_count": 8,
   "metadata": {},
   "outputs": [
    {
     "data": {
      "text/plain": [
       "2.008979840615629"
      ]
     },
     "execution_count": 8,
     "metadata": {},
     "output_type": "execute_result"
    }
   ],
   "source": [
    "A = np.array([ -0.73,0.69 ])\n",
    "B = np.array([ 0.73, -0.69 ])\n",
    "C=np.array([[-0.73,0.69],[0.73, -0.69]])\n",
    "import math\n",
    "distance = math.sqrt( ((A[0]-B[0])**2)+((A[1]-B[1])**2) )\n",
    "distance"
   ]
  },
  {
   "cell_type": "code",
   "execution_count": 9,
   "metadata": {},
   "outputs": [
    {
     "data": {
      "text/plain": [
       "(100, 2)"
      ]
     },
     "execution_count": 9,
     "metadata": {},
     "output_type": "execute_result"
    }
   ],
   "source": [
    "A1=np.full(X_2d_1.shape,A)\n",
    "A1.shape\n",
    "\n",
    "B1=np.full(X_2d_1.shape,B)\n",
    "B1.shape"
   ]
  },
  {
   "cell_type": "code",
   "execution_count": 10,
   "metadata": {},
   "outputs": [
    {
     "data": {
      "text/plain": [
       "[<matplotlib.axis.XTick at 0x9e9f548>,\n",
       " <matplotlib.axis.XTick at 0x9e99048>,\n",
       " <matplotlib.axis.XTick at 0x9ed4088>]"
      ]
     },
     "execution_count": 10,
     "metadata": {},
     "output_type": "execute_result"
    },
    {
     "data": {
      "image/png": "[encoded data removed]",
      "text/plain": [
       "<Figure size 432x288 with 1 Axes>"
      ]
     },
     "metadata": {
      "needs_background": "light"
     },
     "output_type": "display_data"
    }
   ],
   "source": [
    "import matplotlib.pyplot as plt\n",
    "fig,ax=plt.subplots()\n",
    "xmin,xmax=-4,4\n",
    "ax.set_xlim([xmin,xmax])\n",
    "ax.set_ylim([xmin,xmax])\n",
    "\n",
    "# Move left y-axis and bottim x-axis to centre, passing through (0,0)\n",
    "ax.spines['left'].set_position('zero')\n",
    "ax.spines['bottom'].set_position('zero')\n",
    "# Eliminate upper and right axes\n",
    "ax.spines['right'].set_color('none')\n",
    "ax.spines['top'].set_color('none')\n",
    "\n",
    "# Show ticks in the left and lower axes only\n",
    "ax.xaxis.set_ticks_position('bottom')\n",
    "ax.yaxis.set_ticks_position('left')\n",
    "\n",
    "#make the box square shape\n",
    "ax.set_aspect('equal')\n",
    "\n",
    "ax.scatter(X_2d_1[:, 0], X_2d_1[:, 1], marker=\"o\", s=20,color=[\"r\" if y_2d == -1 else \"b\" for y_2d in y_2d])\n",
    "\n",
    "start, end = ax.get_xlim()\n",
    "ax.xaxis.set_ticks(np.arange(start, end, 3.0))"
   ]
  },
  {
   "cell_type": "code",
   "execution_count": 11,
   "metadata": {},
   "outputs": [
    {
     "data": {
      "text/plain": [
       "[<matplotlib.axis.XTick at 0xaef1708>,\n",
       " <matplotlib.axis.XTick at 0xaee53c8>,\n",
       " <matplotlib.axis.XTick at 0xaf14ec8>]"
      ]
     },
     "execution_count": 11,
     "metadata": {},
     "output_type": "execute_result"
    },
    {
     "data": {
      "image/png": "[encoded data removed]",
      "text/plain": [
       "<Figure size 432x288 with 1 Axes>"
      ]
     },
     "metadata": {
      "needs_background": "light"
     },
     "output_type": "display_data"
    }
   ],
   "source": [
    "import matplotlib.pyplot as plt\n",
    "fig,ax=plt.subplots()\n",
    "xmin,xmax=-4,4\n",
    "ax.set_xlim([xmin,xmax])\n",
    "ax.set_ylim([xmin,xmax])\n",
    "\n",
    "# Move left y-axis and bottim x-axis to centre, passing through (0,0)\n",
    "ax.spines['left'].set_position('zero')\n",
    "ax.spines['bottom'].set_position('zero')\n",
    "# Eliminate upper and right axes\n",
    "ax.spines['right'].set_color('none')\n",
    "ax.spines['top'].set_color('none')\n",
    "\n",
    "# Show ticks in the left and lower axes only\n",
    "ax.xaxis.set_ticks_position('bottom')\n",
    "ax.yaxis.set_ticks_position('left')\n",
    "\n",
    "#make the box square shape\n",
    "ax.set_aspect('equal')\n",
    "\n",
    "ax.scatter(X_2d_1[:, 0], X_2d_1[:, 1], marker=\"o\", s=20,color=[\"r\" if y_2d == -1 else \"b\" for y_2d in y_2d])\n",
    "ax.scatter(C[:,0],C[:,1],marker=\"o\",color=\"cy\")\n",
    "start, end = ax.get_xlim()\n",
    "ax.xaxis.set_ticks(np.arange(start, end, 3.0))"
   ]
  },
  {
   "cell_type": "code",
   "execution_count": 12,
   "metadata": {},
   "outputs": [
    {
     "data": {
      "text/plain": [
       "array([0.6404961 , 0.42529936])"
      ]
     },
     "execution_count": 12,
     "metadata": {},
     "output_type": "execute_result"
    }
   ],
   "source": [
    "np.var(X_2d_1[y_2d==1],axis=0)"
   ]
  },
  {
   "cell_type": "code",
   "execution_count": 13,
   "metadata": {},
   "outputs": [
    {
     "data": {
      "text/plain": [
       "array([0.29869082, 0.62061093])"
      ]
     },
     "execution_count": 13,
     "metadata": {},
     "output_type": "execute_result"
    }
   ],
   "source": [
    "np.var(X_2d_1[y_2d==-1],axis=0)"
   ]
  },
  {
   "cell_type": "code",
   "execution_count": 14,
   "metadata": {},
   "outputs": [],
   "source": [
    "def point_on_line(a, b, p):\n",
    "    ap = p - a\n",
    "    ab = b - a\n",
    "    result = a + np.dot(ap, ab) / np.dot(ab, ab) * ab\n",
    "    return result\n",
    "\n",
    "X_2d_1_projected=[]\n",
    "for i in range(X_2d_1.shape[0]):\n",
    "    projected_neg = point_on_line(A1[i], B1[i], X_2d_1[i]) \n",
    "    X_2d_1_projected.append(projected_neg)\n",
    "    #print(projected_neg)"
   ]
  },
  {
   "cell_type": "code",
   "execution_count": 15,
   "metadata": {},
   "outputs": [
    {
     "data": {
      "text/plain": [
       "array([[-0.72713913,  0.68729589],\n",
       "       [-0.36857355,  0.34837774],\n",
       "       [-0.74361339,  0.70286745],\n",
       "       [-0.72153176,  0.68199577],\n",
       "       [-0.91465905,  0.86454075]])"
      ]
     },
     "execution_count": 15,
     "metadata": {},
     "output_type": "execute_result"
    }
   ],
   "source": [
    "X_2d_1_projected=np.array(X_2d_1_projected)\n",
    "X_2d_1_projected[0:5]"
   ]
  },
  {
   "cell_type": "code",
   "execution_count": 16,
   "metadata": {},
   "outputs": [
    {
     "data": {
      "text/plain": [
       "[<matplotlib.axis.XTick at 0x9ef8048>, <matplotlib.axis.XTick at 0xaf26cc8>]"
      ]
     },
     "execution_count": 16,
     "metadata": {},
     "output_type": "execute_result"
    },
    {
     "data": {
      "image/png": "[encoded data removed]",
      "text/plain": [
       "<Figure size 432x288 with 1 Axes>"
      ]
     },
     "metadata": {
      "needs_background": "light"
     },
     "output_type": "display_data"
    }
   ],
   "source": [
    "import matplotlib.pyplot as plt\n",
    "fig,ax=plt.subplots()\n",
    "xmin,xmax=-2.5,2.5\n",
    "ax.set_xlim([xmin,xmax])\n",
    "ax.set_ylim([xmin,xmax])\n",
    "\n",
    "# Move left y-axis and bottim x-axis to centre, passing through (0,0)\n",
    "ax.spines['left'].set_position('zero')\n",
    "ax.spines['bottom'].set_position('zero')\n",
    "# Eliminate upper and right axes\n",
    "ax.spines['right'].set_color('none')\n",
    "ax.spines['top'].set_color('none')\n",
    "\n",
    "# Show ticks in the left and lower axes only\n",
    "ax.xaxis.set_ticks_position('bottom')\n",
    "ax.yaxis.set_ticks_position('left')\n",
    "\n",
    "#make the box square shape\n",
    "ax.set_aspect('equal')\n",
    "\n",
    "ax.scatter(X_2d_1_projected[:, 0], X_2d_1_projected[:, 1], marker=\"o\", s=20,color=[\"r\" if y_2d == -1 else \"b\" for y_2d in y_2d])\n",
    "start, end = ax.get_xlim()\n",
    "ax.xaxis.set_ticks(np.arange(start, end, 3.0))\n",
    "#plt.title(\"centers=[(-3,0),(3,0)],σ=%.2f,i=%.0f\"%(σ,i))\n",
    "#plt.title(\"centers=[(-3,0),(3,0)],σ=%.2f\"%σ) \n",
    "#plt.title(\"centers=[(-3,0),(3,0)]\")"
   ]
  },
  {
   "cell_type": "code",
   "execution_count": 17,
   "metadata": {},
   "outputs": [
    {
     "data": {
      "text/plain": [
       "array([0.06939612, 0.06199942])"
      ]
     },
     "execution_count": 17,
     "metadata": {},
     "output_type": "execute_result"
    }
   ],
   "source": [
    "np.var(X_2d_1_projected[y_2d==-1],axis=0)"
   ]
  },
  {
   "cell_type": "code",
   "execution_count": 18,
   "metadata": {},
   "outputs": [
    {
     "data": {
      "text/plain": [
       "array([0.13990906, 0.12499663])"
      ]
     },
     "execution_count": 18,
     "metadata": {},
     "output_type": "execute_result"
    }
   ],
   "source": [
    "np.var(X_2d_1_projected[y_2d==1],axis=0)"
   ]
  },
  {
   "cell_type": "code",
   "execution_count": 19,
   "metadata": {},
   "outputs": [
    {
     "name": "stdout",
     "output_type": "stream",
     "text": [
      "0.5027811587959945 -0.47523150625922783\n"
     ]
    }
   ],
   "source": [
    "x1=X_2d_1_projected[55][0]\n",
    "x1\n",
    "y1=X_2d_1_projected[55][1]\n",
    "print(x1,y1)"
   ]
  },
  {
   "cell_type": "code",
   "execution_count": 20,
   "metadata": {},
   "outputs": [
    {
     "name": "stdout",
     "output_type": "stream",
     "text": [
      "0.4750921542168922 -0.4490597074104872\n"
     ]
    }
   ],
   "source": [
    "x2=X_2d_1_projected[56][0]\n",
    "x2\n",
    "y2=X_2d_1_projected[56][1]\n",
    "print(x2,y2)"
   ]
  },
  {
   "cell_type": "code",
   "execution_count": 21,
   "metadata": {},
   "outputs": [
    {
     "data": {
      "text/plain": [
       "-0.9452054794520599"
      ]
     },
     "execution_count": 21,
     "metadata": {},
     "output_type": "execute_result"
    }
   ],
   "source": [
    "slope=(y2-y1)/(x2-x1)\n",
    "slope"
   ]
  },
  {
   "cell_type": "code",
   "execution_count": 22,
   "metadata": {},
   "outputs": [
    {
     "name": "stdout",
     "output_type": "stream",
     "text": [
      "-0.7572365964095585\n",
      "-43.38646106711897\n"
     ]
    }
   ],
   "source": [
    "import math\n",
    "angle=(math.atan(slope))\n",
    "angle_degrees=math.degrees(math.atan(slope))\n",
    "\n",
    "print(angle)\n",
    "print(angle_degrees)"
   ]
  },
  {
   "cell_type": "code",
   "execution_count": 23,
   "metadata": {},
   "outputs": [
    {
     "data": {
      "text/plain": [
       "(-0.9452054794520599, -0.7572365964095585, 2.4424906541753444e-15)"
      ]
     },
     "execution_count": 23,
     "metadata": {},
     "output_type": "execute_result"
    }
   ],
   "source": [
    "import numpy as np\n",
    "import matplotlib.pyplot as plt\n",
    "from scipy import stats\n",
    "from scipy.stats import linregress\n",
    "p = np.array([[x1, x2], [y1, y2]])\n",
    "r = stats.linregress(p)\n",
    "r.slope,math.atan(r.slope), r.intercept"
   ]
  },
  {
   "cell_type": "code",
   "execution_count": 24,
   "metadata": {},
   "outputs": [
    {
     "data": {
      "text/plain": [
       "array([[ 0.72673701, -0.6869158 ],\n",
       "       [ 0.6869158 ,  0.72673701]])"
      ]
     },
     "execution_count": 24,
     "metadata": {},
     "output_type": "execute_result"
    }
   ],
   "source": [
    "theta1 = -angle\n",
    "c, s = np.cos(theta1), np.sin(theta1)\n",
    "R1 = np.array(((c, -s), (s, c)))\n",
    "R1"
   ]
  },
  {
   "cell_type": "code",
   "execution_count": 25,
   "metadata": {},
   "outputs": [
    {
     "data": {
      "text/plain": [
       "array([-1.00055333e+00, -2.72004641e-15])"
      ]
     },
     "execution_count": 25,
     "metadata": {},
     "output_type": "execute_result"
    }
   ],
   "source": [
    "R1.dot(X_2d_1_projected[0])"
   ]
  },
  {
   "cell_type": "code",
   "execution_count": 39,
   "metadata": {},
   "outputs": [],
   "source": [
    "X_2d_1_projected_X=[]\n",
    "for i in range(X_2d_1_projected.shape[0]):\n",
    "    X_2d_1_projected_x=R1.dot(X_2d_1_projected[i])\n",
    "    X_2d_1_projected_X.append(X_2d_1_projected_x)\n",
    "    #print(X_2d_1_projected_x)\n",
    "\n",
    "X_2d_1_projected_X_2=np.array(X_2d_1_projected_X)"
   ]
  },
  {
   "cell_type": "code",
   "execution_count": 40,
   "metadata": {},
   "outputs": [
    {
     "data": {
      "text/plain": [
       "[<matplotlib.axis.XTick at 0xb6d2cc8>, <matplotlib.axis.XTick at 0xb6afe08>]"
      ]
     },
     "execution_count": 40,
     "metadata": {},
     "output_type": "execute_result"
    },
    {
     "data": {
      "image/png": "[encoded data removed]",
      "text/plain": [
       "<Figure size 432x288 with 1 Axes>"
      ]
     },
     "metadata": {
      "needs_background": "light"
     },
     "output_type": "display_data"
    }
   ],
   "source": [
    "import matplotlib.pyplot as plt\n",
    "fig,ax=plt.subplots()\n",
    "xmin,xmax=-2.5,2.5\n",
    "ax.set_xlim([xmin,xmax])\n",
    "ax.set_ylim([xmin,xmax])\n",
    "\n",
    "# Move left y-axis and bottim x-axis to centre, passing through (0,0)\n",
    "ax.spines['left'].set_position('zero')\n",
    "ax.spines['bottom'].set_position('zero')\n",
    "# Eliminate upper and right axes\n",
    "ax.spines['right'].set_color('none')\n",
    "ax.spines['top'].set_color('none')\n",
    "\n",
    "# Show ticks in the left and lower axes only\n",
    "ax.xaxis.set_ticks_position('bottom')\n",
    "ax.yaxis.set_ticks_position('left')\n",
    "\n",
    "#make the box square shape\n",
    "ax.set_aspect('equal')\n",
    "\n",
    "ax.scatter(X_2d_1_projected_X_2[:, 0], X_2d_1_projected_X_2[:, 1], marker=\"o\", s=20,color=[\"r\" if y_2d == -1 else \"b\" for y_2d in y_2d])\n",
    "start, end = ax.get_xlim()\n",
    "ax.xaxis.set_ticks(np.arange(start, end, 3.0))\n",
    "#plt.title(\"centers=[(-3,0),(3,0)],σ=%.2f,i=%.0f\"%(σ,i))\n",
    "#plt.title(\"centers=[(-3,0),(3,0)],σ=%.2f\"%σ) \n",
    "#plt.title(\"centers=[(-3,0),(3,0)]\")"
   ]
  },
  {
   "cell_type": "code",
   "execution_count": 41,
   "metadata": {},
   "outputs": [
    {
     "data": {
      "text/plain": [
       "array([1.31395546e-01, 9.46278836e-31])"
      ]
     },
     "execution_count": 41,
     "metadata": {},
     "output_type": "execute_result"
    }
   ],
   "source": [
    "neg_var=np.var(X_2d_1_projected_X_2[y_2d==-1],axis=0)\n",
    "neg_var"
   ]
  },
  {
   "cell_type": "code",
   "execution_count": 42,
   "metadata": {},
   "outputs": [
    {
     "data": {
      "text/plain": [
       "array([2.64905685e-01, 1.88332742e-30])"
      ]
     },
     "execution_count": 42,
     "metadata": {},
     "output_type": "execute_result"
    }
   ],
   "source": [
    "pos_var=np.var(X_2d_1_projected_X_2[y_2d==1],axis=0)\n",
    "pos_var"
   ]
  },
  {
   "cell_type": "code",
   "execution_count": 43,
   "metadata": {},
   "outputs": [
    {
     "data": {
      "text/plain": [
       "0.3175599225109284"
      ]
     },
     "execution_count": 43,
     "metadata": {},
     "output_type": "execute_result"
    }
   ],
   "source": [
    "total_neg_var=np.var(X_2d_1_projected_X_2[y_2d==-1])\n",
    "total_neg_var"
   ]
  },
  {
   "cell_type": "code",
   "execution_count": 44,
   "metadata": {},
   "outputs": [
    {
     "data": {
      "text/plain": [
       "0.3843149920449248"
      ]
     },
     "execution_count": 44,
     "metadata": {},
     "output_type": "execute_result"
    }
   ],
   "source": [
    "total_pos_var=np.var(X_2d_1_projected_X_2[y_2d==1])\n",
    "total_pos_var"
   ]
  },
  {
   "cell_type": "code",
   "execution_count": 45,
   "metadata": {},
   "outputs": [
    {
     "data": {
      "text/plain": [
       "0.4451411185788945"
      ]
     },
     "execution_count": 45,
     "metadata": {},
     "output_type": "execute_result"
    }
   ],
   "source": [
    "sd=math.sqrt((neg_var[0]+pos_var[0])/2)\n",
    "sd"
   ]
  },
  {
   "cell_type": "code",
   "execution_count": 46,
   "metadata": {},
   "outputs": [
    {
     "data": {
      "text/plain": [
       "0.5923997444951564"
      ]
     },
     "execution_count": 46,
     "metadata": {},
     "output_type": "execute_result"
    }
   ],
   "source": [
    "total_sd=math.sqrt((total_neg_var+total_pos_var)/2)\n",
    "total_sd"
   ]
  },
  {
   "cell_type": "code",
   "execution_count": 47,
   "metadata": {},
   "outputs": [],
   "source": [
    "def variance(data):\n",
    "    # Number of observations\n",
    "    n = len(data)\n",
    "    # Mean of the data\n",
    "    mean = sum(data) / n\n",
    "    # Square deviations\n",
    "    deviations = [(x - mean) ** 2 for x in data]\n",
    "    # Variance\n",
    "    variance = sum(deviations) / n\n",
    "    return variance"
   ]
  },
  {
   "cell_type": "code",
   "execution_count": 49,
   "metadata": {},
   "outputs": [
    {
     "data": {
      "text/plain": [
       "array([[-0.72713913,  0.68729589],\n",
       "       [-0.36857355,  0.34837774],\n",
       "       [-0.74361339,  0.70286745],\n",
       "       [-0.72153176,  0.68199577],\n",
       "       [-0.91465905,  0.86454075]])"
      ]
     },
     "execution_count": 49,
     "metadata": {},
     "output_type": "execute_result"
    }
   ],
   "source": [
    "X_2d_1_projected[0:5]"
   ]
  },
  {
   "cell_type": "code",
   "execution_count": 50,
   "metadata": {},
   "outputs": [
    {
     "data": {
      "text/plain": [
       "array([[ 0.68729589,  0.34837774,  0.70286745,  0.68199577,  0.86454075],\n",
       "       [-0.72713913, -0.36857355, -0.74361339, -0.72153176, -0.91465905]])"
      ]
     },
     "execution_count": 50,
     "metadata": {},
     "output_type": "execute_result"
    }
   ],
   "source": [
    "import numpy as np\n",
    "X_2d_1_projected_rot90=np.rot90(X_2d_1_projected[0:5])\n",
    "X_2d_1_projected_rot90"
   ]
  },
  {
   "cell_type": "code",
   "execution_count": 51,
   "metadata": {},
   "outputs": [
    {
     "data": {
      "text/plain": [
       "array([[ 0.68729589,  0.34837774,  0.70286745,  0.68199577,  0.86454075],\n",
       "       [-0.72713913, -0.36857355, -0.74361339, -0.72153176, -0.91465905]])"
      ]
     },
     "execution_count": 51,
     "metadata": {},
     "output_type": "execute_result"
    }
   ],
   "source": [
    "X_2d_1_projected_rot90[0:]"
   ]
  },
  {
   "cell_type": "code",
   "execution_count": 17,
   "metadata": {},
   "outputs": [
    {
     "data": {
      "text/plain": [
       "array([0.26424591, 0.26052413])"
      ]
     },
     "execution_count": 17,
     "metadata": {},
     "output_type": "execute_result"
    }
   ],
   "source": [
    "np.std(X_neg_1_projected,axis=0)"
   ]
  },
  {
   "cell_type": "code",
   "execution_count": 18,
   "metadata": {},
   "outputs": [
    {
     "data": {
      "text/plain": [
       "array([0.1318272 , 0.12813991])"
      ]
     },
     "execution_count": 18,
     "metadata": {},
     "output_type": "execute_result"
    }
   ],
   "source": [
    "np.var(X_pos_1_projected,axis=0)"
   ]
  },
  {
   "cell_type": "code",
   "execution_count": 19,
   "metadata": {},
   "outputs": [
    {
     "data": {
      "text/plain": [
       "array([0.36308015, 0.35796635])"
      ]
     },
     "execution_count": 19,
     "metadata": {},
     "output_type": "execute_result"
    }
   ],
   "source": [
    "np.std(X_pos_1_projected,axis=0)"
   ]
  },
  {
   "cell_type": "code",
   "execution_count": 25,
   "metadata": {},
   "outputs": [],
   "source": [
    "import matplotlib.pyplot as plt \n",
    "from sklearn.datasets.samples_generator import make_blobs\n",
    "import numpy as np\n",
    "import pandas as pd\n",
    "from sklearn.metrics import hinge_loss\n",
    "cols=['iteration','C','Margin','Train_hinge_loss','cost_training','Test_hinge_loss','cost_testing']\n",
    "lst=[]\n",
    "for i in range (1,501):\n",
    "    from sklearn.model_selection import train_test_split\n",
    "    X_train,X_test,y_train,y_test=train_test_split(X_2d_1,y_2d,test_size=0.40,random_state=1)\n",
    "    i=i\n",
    "    from sklearn import metrics\n",
    "    from sklearn import svm\n",
    "    import numpy as np\n",
    " \n",
    "    Cs= np.logspace(-1,2,1000).tolist()\n",
    " \n",
    "    Cs=np.array(Cs)\n",
    "    clf = svm.SVC(kernel='linear', C=Cs)\n",
    "    \n",
    "    #i=[]\n",
    "    C=[]\n",
    "    Margin=[]\n",
    "    train_errors = []\n",
    "    test_errors = []\n",
    "    number_of_misclassified_train_points=[]\n",
    "    number_of_misclassified_test_points=[]\n",
    "    Train_hinge_loss=[]\n",
    "    cost_training=[]\n",
    "    Test_hinge_loss=[]\n",
    "    cost_testing=[]\n",
    "    \n",
    "    #alphas=[]\n",
    "    #ξs=[]\n",
    "    \n",
    "    #old_M=0\n",
    "    #old_C=0\n",
    "    #old_train=0\n",
    "    #old_test=0\n",
    "    #old_misclassified_train=0\n",
    "    #old_misclassified_test=0\n",
    "\n",
    "    for C in Cs:\n",
    "        \n",
    "        clf.set_params(C=C)\n",
    "        clf.fit(X_train, y_train)\n",
    "        \n",
    "        #C.append(C)\n",
    "        i=i\n",
    "        w = clf.coef_[0]\n",
    "        #Weights.append(w)\n",
    "        \n",
    "        y_train_predict=clf.predict(X_train)\n",
    "        train_error=metrics.mean_squared_error(y_train,y_train_predict)\n",
    "        train_errors.append(train_error)\n",
    "        \n",
    "        misclassified_train=np.where(y_train != y_train_predict)\n",
    "        number_of_misclassified_train_points.append(misclassified_train)\n",
    "       \n",
    "        \n",
    "        y_test_predict=clf.predict(X_test)\n",
    "        test_error=metrics.mean_squared_error(y_test,y_test_predict)\n",
    "        test_errors.append(test_error)\n",
    "        \n",
    "        misclassified_test=np.where(y_test != y_test_predict)\n",
    "        number_of_misclassified_test_points.append(misclassified_test)\n",
    "        \n",
    "        pred_decision_train = clf.decision_function(X_train)\n",
    "        hinge_loss_train=hinge_loss(y_train,pred_decision_train)\n",
    "        Train_hinge_loss.append(hinge_loss_train)\n",
    "\n",
    "        pred_decision_test = clf.decision_function(X_test)\n",
    "        hinge_loss_test=hinge_loss(y_test,pred_decision_test)\n",
    "        Test_hinge_loss.append(hinge_loss_test)\n",
    "        \n",
    "        cost_train=1/2* np.dot(w,w)+C* hinge_loss_train\n",
    "        cost_training.append(cost_train)\n",
    "        \n",
    "        cost_test=1/2* np.dot(w,w)+ C*hinge_loss_test\n",
    "        cost_testing.append(cost_test)\n",
    "        \n",
    "        #alpha=clf.dual_coef_\n",
    "        #alphas.append(alpha)\n",
    "        #ξ=y_train*clf.decision_function(X_train)\n",
    "        #ξs.append(ξ)\n",
    "        a = -w[0] / w[1]\n",
    "        M= 2 / np.sqrt(np.sum(w ** 2))\n",
    "        Margin.append(M)\n",
    "        #if M!=old_M:\n",
    "            #old_M=M\n",
    "            #old_C=C\n",
    "            #old_train=train_error\n",
    "            #old_test=test_error\n",
    "            #old_misclassified_train=len(misclassified_train[0])\n",
    "            #old_misclassified_test=len(misclassified_test[0])\n",
    "        #else:\n",
    "            #break\n",
    "        #lst.append([i,C,Margin,train_errors,number_of_misclassified_train_points,test_errors,number_of_misclassified_test_points,Train_hinge_loss,cost_training,Test_hinge_loss,cost_testing])    \n",
    "        lst.append([i,C,M,hinge_loss_train,cost_train,hinge_loss_test,cost_test])    \n",
    " \n",
    "    #print ('iteration=%.f'%i)\n",
    "    #print (old_C,old_M)\n",
    "    \n",
    "    #print (\"C\")\n",
    "    #print (Cs)\n",
    "    #print (\"Margin\")\n",
    "    #print (Margin)\n",
    "    #print (\"MSE_Train\")\n",
    "    #print (train_errors)\n",
    "    #print (\"MSE_Test\")\n",
    "    #print (test_errors)\n",
    "    #print (\"ξ\")\n",
    "    #print (ξs)\n",
    "    #print (\"number_of_misclassified_train_points\")\n",
    "    #print (number_of_misclassified_train_points)\n",
    "    #print (\"number_of_misclassified_test_points\")\n",
    "    #print (number_of_misclassified_test_points)\n",
    "df = pd.DataFrame(lst, columns=cols)\n"
   ]
  },
  {
   "cell_type": "code",
   "execution_count": 26,
   "metadata": {},
   "outputs": [],
   "source": [
    "df.to_excel (r'C:\\Users\\i49ahmed\\Downloads\\FinalTest\\iris_dataset.xlsx', index = False, header=True)"
   ]
  },
  {
   "cell_type": "code",
   "execution_count": 56,
   "metadata": {},
   "outputs": [
    {
     "data": {
      "image/png": "[encoded data removed]",
      "text/plain": [
       "<Figure size 432x288 with 1 Axes>"
      ]
     },
     "metadata": {
      "needs_background": "light"
     },
     "output_type": "display_data"
    },
    {
     "name": "stdout",
     "output_type": "stream",
     "text": [
      "Margin= 1.0387252221\n"
     ]
    },
    {
     "data": {
      "image/png": "[encoded data removed]",
      "text/plain": [
       "<Figure size 432x288 with 1 Axes>"
      ]
     },
     "metadata": {
      "needs_background": "light"
     },
     "output_type": "display_data"
    },
    {
     "name": "stdout",
     "output_type": "stream",
     "text": [
      "Margin= 1.0386870134\n"
     ]
    }
   ],
   "source": [
    "from sklearn import metrics\n",
    "from sklearn import svm\n",
    "import numpy as np\n",
    "from sklearn.metrics import hinge_loss\n",
    "Cs=np.arange(0.407,0.408,0.001).tolist()\n",
    "Cs=np.array(Cs)\n",
    "clf = svm.SVC(kernel='linear', C=Cs)\n",
    "\n",
    "\n",
    "for C in Cs:\n",
    "        \n",
    "    clf.set_params(C=C)\n",
    "    #clf.fit(X_train, y_train)\n",
    "    clf.fit(X_2d_1,y_2d)   \n",
    "        \n",
    "    w = clf.coef_[0]\n",
    "    #Weights.append(w)\n",
    "        \n",
    "    alpha=clf.dual_coef_\n",
    "    \n",
    "    #ξ=y_train*clf.decision_function(X_train)\n",
    "    #ξs.append(ξ)\n",
    "\n",
    "    M= 2 / np.sqrt(np.sum(w ** 2))\n",
    "\n",
    "    pred_decision= clf.decision_function(X_2d_1)\n",
    "    hinge_loss_train=hinge_loss(y_2d,pred_decision)\n",
    "    \n",
    "    a = -w[0] / w[1]\n",
    "    \n",
    "    plt.figure()\n",
    "    plt.scatter(X_2d_1[:, 0], X_2d_1[:, 1], marker=\"o\", s=20,color=[\"r\" if y_2d == -1 else \"b\" for y_2d in y_2d])\n",
    "    ax.xaxis.set_ticks(np.arange(-7, 7, 3))\n",
    "# plot the decision function\n",
    "    ax = plt.gca()\n",
    "    ax.set_aspect('equal')\n",
    "    xlim = ax.get_xlim()\n",
    "    ylim = ax.get_ylim()\n",
    "        \n",
    "# Move left y-axis and bottim x-axis to centre, passing through (0,0)\n",
    "    ax.spines['left'].set_position('zero')\n",
    "    ax.spines['bottom'].set_position('zero')\n",
    "# Eliminate upper and right axes\n",
    "    ax.spines['right'].set_color('none')\n",
    "    ax.spines['top'].set_color('none')\n",
    "# Show ticks in the left and lower axes only\n",
    "    ax.xaxis.set_ticks_position('bottom')\n",
    "    ax.yaxis.set_ticks_position('left')\n",
    "    \n",
    "# create grid to evaluate model\n",
    "    xx = np.linspace(-5, 5, 10)\n",
    "    yy = np.linspace(-5, 5, 10)\n",
    "    YY, XX = np.meshgrid(yy, xx)\n",
    "    xy = np.vstack([XX.ravel(), YY.ravel()]).T\n",
    "    Z = clf.decision_function(xy).reshape(XX.shape)\n",
    "\n",
    "    yy = a * xx - (clf.intercept_[0]) / w[1]\n",
    "    yy_down = yy - np.sqrt(1 + a ** 2) * M\n",
    "    yy_up = yy + np.sqrt(1 + a ** 2) * M\n",
    "\n",
    "        \n",
    "# plot decision boundary and margins\n",
    "    ax.contour(XX, YY, Z, colors='k', levels=[-1, 0, 1], alpha=0.5,\n",
    "               linestyles=['--', '-', '--'])\n",
    "    #plot support vectors\n",
    "    ax.scatter(clf.support_vectors_[:, 0], clf.support_vectors_[:, 1], s=20,\n",
    "               linewidth=1, facecolors='none', edgecolors='k')    \n",
    "    \n",
    "    #plt.title('SVM Classifier: C=%.3f,σ=%.3f\\n Margin=%.12f\\n Train_hinge_loss=%.15e'%(C,σ,M,hinge_loss_train))\n",
    "    plt.title('SVM Classifier: C=%.3f\\n Margin=%.5f'%(C,M))\n",
    "    plt.show()\n",
    "    print(\"Margin= %.10f\"%M)"
   ]
  },
  {
   "cell_type": "code",
   "execution_count": null,
   "metadata": {},
   "outputs": [],
   "source": []
  }
 ],
 "metadata": {
  "kernelspec": {
   "display_name": "Python 3",
   "language": "python",
   "name": "python3"
  },
  "language_info": {
   "codemirror_mode": {
    "name": "ipython",
    "version": 3
   },
   "file_extension": ".py",
   "mimetype": "text/x-python",
   "name": "python",
   "nbconvert_exporter": "python",
   "pygments_lexer": "ipython3",
   "version": "3.8.8"
  }
 },
 "nbformat": 4,
 "nbformat_minor": 4
}
