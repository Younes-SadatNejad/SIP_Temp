{
 "cells": [
  {
   "cell_type": "code",
   "execution_count": 2,
   "metadata": {},
   "outputs": [],
   "source": [
    "import matplotlib.pyplot as plt\n",
    "from sklearn.datasets import make_blobs\n",
    "import numpy as np\n",
    "from pandas import DataFrame"
   ]
  },
  {
   "cell_type": "code",
   "execution_count": 3,
   "metadata": {},
   "outputs": [],
   "source": [
    "# generate a 2-class classification problem with 2000 data points,\n",
    "# where each data point is a 2D feature vector\n",
    "(X, y) = make_blobs(n_samples=20, n_features=2, centers=2,\n",
    "                    cluster_std=5.0, random_state=95)\n",
    "\n",
    "y = np.where(y == 1, 1, -1)"
   ]
  },
  {
   "cell_type": "code",
   "execution_count": 4,
   "metadata": {},
   "outputs": [
    {
     "data": {
      "text/plain": [
       "array([[  4.31867019,   5.04196515],\n",
       "       [ -2.48332861,  -6.132576  ],\n",
       "       [ -7.39375474,  -0.51841562],\n",
       "       [ -4.4955948 , -13.9764062 ],\n",
       "       [ -0.60890453,  -9.34802337],\n",
       "       [  5.56181503,   0.24947272],\n",
       "       [ -8.38395215, -13.65054682],\n",
       "       [  6.95070793,   4.30571124],\n",
       "       [ 11.28618543,   3.0596937 ],\n",
       "       [ 11.85415186, -11.95988632],\n",
       "       [ -4.46831084,  -6.50346583],\n",
       "       [  3.51322432,   0.90498203],\n",
       "       [ -6.93504204,  -6.81193628],\n",
       "       [  8.94289982,   4.22839799],\n",
       "       [  0.60747999,  -2.13091435],\n",
       "       [ -6.13559619,   2.72249922],\n",
       "       [ 12.67789744,   6.28895474],\n",
       "       [  6.6588664 ,   6.4092281 ],\n",
       "       [  0.01877028,  -5.70034763],\n",
       "       [  7.0234883 ,  -3.60232692]])"
      ]
     },
     "execution_count": 4,
     "metadata": {},
     "output_type": "execute_result"
    }
   ],
   "source": [
    "X"
   ]
  },
  {
   "cell_type": "code",
   "execution_count": 5,
   "metadata": {},
   "outputs": [
    {
     "data": {
      "image/png": "[encoded data removed]",
      "text/plain": [
       "<Figure size 432x288 with 1 Axes>"
      ]
     },
     "metadata": {
      "needs_background": "light"
     },
     "output_type": "display_data"
    }
   ],
   "source": [
    "from sklearn import svm\n",
    "import matplotlib.pyplot as plt\n",
    "\n",
    "import numpy as np\n",
    "\n",
    "\n",
    "# fit the model, don't regularize for illustration purposes\n",
    "Cs=0.0080\n",
    "clf1 = svm.SVC(kernel='linear', C=Cs)\n",
    "X_train=X\n",
    "y_train=y\n",
    "\n",
    "clf1.fit(X_train, y_train)\n",
    "\n",
    "fig,ax=plt.subplots()\n",
    "xmin,xmax=-15.0,15.0\n",
    "ax.set_xlim([xmin,xmax])\n",
    "ax.set_ylim([-15,15])\n",
    "\n",
    "\n",
    "# plot the decision function\n",
    "ax = plt.gca()\n",
    "xlim = ax.get_xlim()\n",
    "ylim = ax.get_ylim()\n",
    "\n",
    "margin = 2 / np.sqrt(np.sum(clf1.coef_ ** 2))\n",
    "w = clf1.coef_[0]\n",
    "a = -w[0] / w[1]\n",
    "\n",
    "\n",
    "# Move left y-axis and bottim x-axis to centre, passing through (0,0)\n",
    "ax.spines['left'].set_position('zero')\n",
    "ax.spines['bottom'].set_position('zero')\n",
    "# Eliminate upper and right axes\n",
    "ax.spines['right'].set_color('none')\n",
    "ax.spines['top'].set_color('none')\n",
    "# Show ticks in the left and lower axes only\n",
    "ax.xaxis.set_ticks_position('bottom')\n",
    "ax.yaxis.set_ticks_position('left')\n",
    "\n",
    "ax.scatter(X_train[:, 0], X_train[:, 1], marker=\"o\", s=30,color=[\"r\" if y_train == -1 else \"b\" for y_train in y_train])\n",
    "\n",
    "\n",
    "# create grid to evaluate model\n",
    "xx = np.linspace(xlim[0], xlim[1], 30)\n",
    "yy = np.linspace(ylim[0], ylim[1], 30)\n",
    "YY, XX = np.meshgrid(yy, xx)\n",
    "xy = np.vstack([XX.ravel(), YY.ravel()]).T\n",
    "Z = clf1.decision_function(xy).reshape(XX.shape)\n",
    "\n",
    "# plot decision boundary and margins\n",
    "ax.contour(XX, YY, Z, colors='k', levels=[-1, 0, 1], alpha=0.5,linestyles=['--', '-', '--'])\n",
    "\n",
    "ax.scatter(clf1.support_vectors_[:, 0], clf1.support_vectors_[:, 1], s=100,\n",
    "           linewidth=1, facecolors='none', edgecolors='black')\n",
    "\n",
    "\n",
    "\n",
    "k=w.tolist()\n",
    "#ax.scatter(k[0],k[1],s=50,c='green')\n",
    "#plt.plot([0,k[0]],[0,k[1]],c='green')\n",
    "ax.set_aspect('equal')\n",
    "#plt.title('$C_4$=%.1f, Margin Width=%.4f'%(Cs,margin))\n",
    "plt.show()"
   ]
  },
  {
   "cell_type": "code",
   "execution_count": null,
   "metadata": {},
   "outputs": [],
   "source": []
  }
 ],
 "metadata": {
  "kernelspec": {
   "display_name": "Python 3",
   "language": "python",
   "name": "python3"
  },
  "language_info": {
   "codemirror_mode": {
    "name": "ipython",
    "version": 3
   },
   "file_extension": ".py",
   "mimetype": "text/x-python",
   "name": "python",
   "nbconvert_exporter": "python",
   "pygments_lexer": "ipython3",
   "version": "3.8.10"
  }
 },
 "nbformat": 4,
 "nbformat_minor": 2
}
